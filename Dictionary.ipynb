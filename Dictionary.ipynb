{
 "cells": [
  {
   "cell_type": "markdown",
   "id": "5fb4d13a",
   "metadata": {},
   "source": [
    "# Dictionary\n",
    "*Mutable Data type\n",
    "*used to store multiple values as 'key-value' pairs\n",
    "*Ordered\n",
    "*Changeable\n",
    "*Unindexed\n",
    "*Does not allow duplicate values\n",
    "*Enclosed with {}\n",
    "*{key:value}"
   ]
  },
  {
   "cell_type": "code",
   "execution_count": 2,
   "id": "abbb1af1",
   "metadata": {},
   "outputs": [
    {
     "name": "stdout",
     "output_type": "stream",
     "text": [
      "{'Name': 'mohana', 'Age': 35, 'Degree': 'M.Tech'}\n",
      "<class 'dict'>\n",
      "3\n"
     ]
    }
   ],
   "source": [
    "#Duplicate values not allowed\n",
    "x={'Name':'Mohana','Age':35,'Degree':'M.Tech','Name':'mohana'}\n",
    "print(x)\n",
    "print(type(x))  #prints the type of variable\n",
    "print(len(x))   #prints the length of variable"
   ]
  },
  {
   "cell_type": "code",
   "execution_count": 1,
   "id": "e6fe3135",
   "metadata": {},
   "outputs": [
    {
     "name": "stdout",
     "output_type": "stream",
     "text": [
      "{'Name': 'mohana', 'Age': 35, 'Degree': 'M.Tech'}\n",
      "{'Name': 'Priya', 'Age': 35, 'Degree': 'M.E'}\n"
     ]
    }
   ],
   "source": [
    "#Replacing keys value\n",
    "x={'Name':'Mohana','Age':35,'Degree':'M.Tech','Name':'mohana'}\n",
    "print(x)\n",
    "x['Name']='Priya'\n",
    "x['Degree']='M.E'\n",
    "print(x)"
   ]
  },
  {
   "cell_type": "code",
   "execution_count": 3,
   "id": "b3db808e",
   "metadata": {},
   "outputs": [
    {
     "name": "stdout",
     "output_type": "stream",
     "text": [
      "New Updated dictionary is {'Name': 'Mohana', 'Age': 35, 'Degree': 'M.Tech', 'Gender': 'Female', 'Marital status': 'Married'}\n"
     ]
    }
   ],
   "source": [
    "#Updating Dictionary\n",
    "x={'Name':'Mohana','Age':35,'Degree':'M.Tech','Name':'Mohana'}\n",
    "x.update({'Gender':'Female','Marital status':'Married'})\n",
    "print('New Updated dictionary is',x)"
   ]
  },
  {
   "cell_type": "code",
   "execution_count": 21,
   "id": "ae7c4a2b",
   "metadata": {},
   "outputs": [
    {
     "name": "stdout",
     "output_type": "stream",
     "text": [
      "dict_keys(['Name', 'Age', 'Degree', 'Gender', 'Marital status'])\n",
      "dict_values(['Mohana', 35, 'M.Tech', 'Female', 'Married'])\n",
      "dict_items([('Name', 'Mohana'), ('Age', 35), ('Degree', 'M.Tech'), ('Gender', 'Female'), ('Marital status', 'Married')])\n"
     ]
    }
   ],
   "source": [
    "#Extracting Keys,values,items\n",
    "\n",
    "print(x.keys())\n",
    "print(x.values())\n",
    "print(x.items())"
   ]
  },
  {
   "cell_type": "code",
   "execution_count": 2,
   "id": "3e59c65d",
   "metadata": {},
   "outputs": [
    {
     "name": "stdout",
     "output_type": "stream",
     "text": [
      "{'Car': 'Honda', 'Bike': 'Zest', 'Flight': 'Indigo'}\n"
     ]
    }
   ],
   "source": [
    "#Removing item using 'Key' name\n",
    "Vehicle={'Car':'Honda','Bike':'Zest','Cycle':'LadyBird','Flight':'Indigo'}\n",
    "Vehicle.pop('Cycle')\n",
    "print(Vehicle)"
   ]
  },
  {
   "cell_type": "code",
   "execution_count": 4,
   "id": "3cc9d6c9",
   "metadata": {},
   "outputs": [
    {
     "name": "stdout",
     "output_type": "stream",
     "text": [
      "{'Car': 'Honda', 'Bike': 'Zest', 'Cycle': 'LadyBird'}\n"
     ]
    }
   ],
   "source": [
    "#Deletes last item in the Dictionary\n",
    "Vehicle={'Car':'Honda','Bike':'Zest','Cycle':'LadyBird','Flight':'Indigo'}\n",
    "Vehicle.popitem()\n",
    "print(Vehicle)\n"
   ]
  },
  {
   "cell_type": "code",
   "execution_count": 44,
   "id": "4566fbcc",
   "metadata": {},
   "outputs": [
    {
     "name": "stdout",
     "output_type": "stream",
     "text": [
      "Car name is : Honda\n",
      "Bike is: Zest\n"
     ]
    }
   ],
   "source": [
    "#Accessing dictionary items\n",
    "print('Car name is :',Vehicle.get('Car'))\n",
    "print('Bike is:',Vehicle['Bike'])"
   ]
  },
  {
   "cell_type": "code",
   "execution_count": 45,
   "id": "e073728b",
   "metadata": {},
   "outputs": [],
   "source": [
    "#Deleting dictionary\n",
    "del Vehicle\n"
   ]
  },
  {
   "cell_type": "code",
   "execution_count": 46,
   "id": "6cb99b13",
   "metadata": {},
   "outputs": [
    {
     "ename": "NameError",
     "evalue": "name 'Vehicle' is not defined",
     "output_type": "error",
     "traceback": [
      "\u001b[1;31m---------------------------------------------------------------------------\u001b[0m",
      "\u001b[1;31mNameError\u001b[0m                                 Traceback (most recent call last)",
      "Input \u001b[1;32mIn [46]\u001b[0m, in \u001b[0;36m<cell line: 1>\u001b[1;34m()\u001b[0m\n\u001b[1;32m----> 1\u001b[0m \u001b[43mVehicle\u001b[49m\n",
      "\u001b[1;31mNameError\u001b[0m: name 'Vehicle' is not defined"
     ]
    }
   ],
   "source": [
    "Vehicle   #deleted dictionary so it cant be accessed"
   ]
  },
  {
   "cell_type": "code",
   "execution_count": 4,
   "id": "b02e0019",
   "metadata": {},
   "outputs": [
    {
     "name": "stdout",
     "output_type": "stream",
     "text": [
      "{}\n"
     ]
    }
   ],
   "source": [
    "#Clearing Dictionary\n",
    "\n",
    "s={'Language':'Python','OS':'Windows'}\n",
    "s.clear()\n",
    "print(s)"
   ]
  },
  {
   "cell_type": "code",
   "execution_count": 2,
   "id": "cf35bc14",
   "metadata": {},
   "outputs": [
    {
     "name": "stdout",
     "output_type": "stream",
     "text": [
      "{'Language': 'Python', 'OS': 'Windows'}\n"
     ]
    }
   ],
   "source": [
    "#copying from one dictinary to another\n",
    "s={'Language':'Python','OS':'Windows'}\n",
    "w=s.copy()\n",
    "print(w)"
   ]
  },
  {
   "cell_type": "code",
   "execution_count": 3,
   "id": "702ba253",
   "metadata": {},
   "outputs": [
    {
     "name": "stdout",
     "output_type": "stream",
     "text": [
      "{'Language': 'Python', 'OS': 'Windows', 'system': 'Laptop'}\n",
      "{'Language': 'Python', 'OS': 'Windows'}\n"
     ]
    }
   ],
   "source": [
    "#Displaying Dictionary after copy\n",
    "s.update({'system':'Laptop'})\n",
    "print(s)\n",
    "print(w)"
   ]
  },
  {
   "cell_type": "code",
   "execution_count": 54,
   "id": "17923e90",
   "metadata": {},
   "outputs": [
    {
     "name": "stdout",
     "output_type": "stream",
     "text": [
      "{7: None, 12: None, 34: None}\n"
     ]
    }
   ],
   "source": [
    "#Converting list into Dictionary\n",
    "l=[7,12,34]\n",
    "a=dict.fromkeys(l)\n",
    "print(a)"
   ]
  },
  {
   "cell_type": "code",
   "execution_count": 4,
   "id": "e477fc6d",
   "metadata": {},
   "outputs": [
    {
     "name": "stdout",
     "output_type": "stream",
     "text": [
      "{1: 'Mala', 2: 'Aishu', 3: 'Vicky', 4: 'Sai'}\n"
     ]
    }
   ],
   "source": [
    "#Combining two list into dictionary\n",
    "x=[1,2,3,4]\n",
    "y=['Mala','Aishu','Vicky','Sai']\n",
    "z=dict(zip(x,y))\n",
    "print(z)"
   ]
  },
  {
   "cell_type": "code",
   "execution_count": null,
   "id": "45fe5257",
   "metadata": {},
   "outputs": [],
   "source": []
  }
 ],
 "metadata": {
  "kernelspec": {
   "display_name": "Python 3 (ipykernel)",
   "language": "python",
   "name": "python3"
  },
  "language_info": {
   "codemirror_mode": {
    "name": "ipython",
    "version": 3
   },
   "file_extension": ".py",
   "mimetype": "text/x-python",
   "name": "python",
   "nbconvert_exporter": "python",
   "pygments_lexer": "ipython3",
   "version": "3.9.12"
  }
 },
 "nbformat": 4,
 "nbformat_minor": 5
}
