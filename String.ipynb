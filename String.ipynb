{
 "cells": [
  {
   "cell_type": "markdown",
   "id": "f2bee066",
   "metadata": {},
   "source": [
    "# String"
   ]
  },
  {
   "cell_type": "code",
   "execution_count": 2,
   "id": "19dd9448",
   "metadata": {
    "scrolled": true
   },
   "outputs": [
    {
     "name": "stdout",
     "output_type": "stream",
     "text": [
      "<class 'str'>\n",
      "12\n",
      "Apple Orange\n",
      "Apple orange\n",
      "APPLE ORANGE\n",
      "apple orange\n",
      "APpLE ORANGE\n",
      "4\n",
      "apple orange\n",
      "11\n",
      "True\n",
      "True\n"
     ]
    }
   ],
   "source": [
    "S='apPle orange'\n",
    "print(type(S))\n",
    "print(len(S))\n",
    "print(S.title())\n",
    "print(S.capitalize())\n",
    "print(S.upper())\n",
    "print(S.lower())\n",
    "print(S.swapcase())\n",
    "print(S.find('e'))\n",
    "print(S.casefold())\n",
    "print(S.find('e',5))\n",
    "print('a' in S)\n",
    "print('b' not in S)"
   ]
  },
  {
   "cell_type": "code",
   "execution_count": 5,
   "id": "5164c9ea",
   "metadata": {
    "scrolled": true
   },
   "outputs": [
    {
     "name": "stdout",
     "output_type": "stream",
     "text": [
      "False\n",
      "False\n",
      "life2hjk 1123hhuji\n",
      "life2hjk 1123hhuji \n",
      " life2hjk 1123hhuji\n",
      "['life2hjk', '1123hhuji']\n"
     ]
    }
   ],
   "source": [
    "x=\" life2hjk 1123hhuji \"\n",
    "print(x.isalpha())\n",
    "print(x.isalnum())\n",
    "print(x.strip())\n",
    "print(x.lstrip())\n",
    "print(x.rstrip())\n",
    "print(x.split())"
   ]
  },
  {
   "cell_type": "code",
   "execution_count": 1,
   "id": "46f309ce",
   "metadata": {},
   "outputs": [
    {
     "name": "stdout",
     "output_type": "stream",
     "text": [
      "False\n",
      "False\n"
     ]
    }
   ],
   "source": [
    "q='1234.6'\n",
    "print(q.isnumeric())\n",
    "print(q.isdigit())"
   ]
  },
  {
   "cell_type": "code",
   "execution_count": 1,
   "id": "02653cee",
   "metadata": {},
   "outputs": [
    {
     "name": "stdout",
     "output_type": "stream",
     "text": [
      "False\n",
      "False\n"
     ]
    }
   ],
   "source": [
    "a='ANaCONDA'\n",
    "print(a.isupper())\n",
    "print(a.islower())"
   ]
  },
  {
   "cell_type": "code",
   "execution_count": 10,
   "id": "04a9bd3e",
   "metadata": {},
   "outputs": [
    {
     "name": "stdout",
     "output_type": "stream",
     "text": [
      "True\n",
      "False\n",
      "True\n",
      "True\n"
     ]
    }
   ],
   "source": [
    "Q='machine learning '\n",
    "\n",
    "print(Q.startswith('mac'))\n",
    "print(Q.startswith('l'))\n",
    "print(Q.endswith('ng '))\n",
    "print(Q.startswith('learning',8,20))"
   ]
  },
  {
   "cell_type": "code",
   "execution_count": 11,
   "id": "1de67da1",
   "metadata": {},
   "outputs": [
    {
     "name": "stdout",
     "output_type": "stream",
     "text": [
      "hi hello11 aruvi institute welcomes you for the python\n",
      "hi welcomes aruvi institute python you for the python\n",
      "hi welcomes aruvi institute python you for the hello11\n",
      "hi hello11 aruvi institute welcomes you for the hello11\n"
     ]
    }
   ],
   "source": [
    "a='hello11'\n",
    "b='welcomes'\n",
    "c='python'\n",
    "print(f'hi {a} aruvi institute {b} you for the {c}')\n",
    "print(f'hi {b} aruvi institute {c} you for the {c}'.format(a,b,c))\n",
    "print('hi {0} aruvi institute {1} you for the {2}'.format(b,c,a))\n",
    "print('hi {} aruvi institute {} you for the {}'.format(a,b,a))\n"
   ]
  },
  {
   "cell_type": "code",
   "execution_count": 3,
   "id": "03dc5b77",
   "metadata": {},
   "outputs": [
    {
     "name": "stdout",
     "output_type": "stream",
     "text": [
      "value of a is 10 , b is 20,and c is 30\n",
      "value of a is 10 , b is 20,and c is 30\n",
      "value of a is 20 , b is 20,and c is 20\n",
      "value of a is 10 , b is 30,and c is 20\n"
     ]
    }
   ],
   "source": [
    "a=10\n",
    "b=20\n",
    "c=30\n",
    "print(f'value of a is {a} , b is {b},and c is {c}')\n",
    "print(f'value of a is {a} , b is {b},and c is {c}'.format(a,c,b))\n",
    "print('value of a is {0} , b is {2},and c is {0}'.format(b,a,b))\n",
    "print('value of a is {} , b is {},and c is {}'.format(a,c,b))\n"
   ]
  },
  {
   "cell_type": "code",
   "execution_count": 16,
   "id": "d893c342",
   "metadata": {},
   "outputs": [
    {
     "name": "stdout",
     "output_type": "stream",
     "text": [
      "baby and child\n",
      "baby and child\n",
      "child and baby\n",
      "baby and child\n"
     ]
    }
   ],
   "source": [
    "x='baby'\n",
    "y='child'\n",
    "print(f'{x} and {y}')\n",
    "print(f'{x} and {y}'.format(x,y))\n",
    "print('{0} and {1}'.format(y,x))\n",
    "print('{} and {}'.format(x,y))"
   ]
  },
  {
   "cell_type": "code",
   "execution_count": 13,
   "id": "6a9db63b",
   "metadata": {},
   "outputs": [
    {
     "name": "stdout",
     "output_type": "stream",
     "text": [
      "apple is good for health,banana is healthy and coffee\n",
      "apple is good banana healthy coffee\n",
      "hello11 is good welcomes healthy python\n",
      "apple is good banana healthy coffee\n"
     ]
    }
   ],
   "source": [
    "x='apple'\n",
    "y='banana'\n",
    "z='coffee'\n",
    "print('{} is good for health,{} is healthy and {}'.format(x,y,z))\n",
    "print('{0} is good {1} healthy {2}'.format(x,y,z))\n",
    "print(f'{a} is good {b} healthy {c}'.format(b,a,c))\n",
    "print(f'{x} is good {y} healthy {z}'.format(x,y,z))"
   ]
  },
  {
   "cell_type": "code",
   "execution_count": 23,
   "id": "d1bf4c48",
   "metadata": {},
   "outputs": [
    {
     "name": "stdout",
     "output_type": "stream",
     "text": [
      "True\n",
      "1ull stack development\n",
      "**************full stack development**************\n",
      "1\n"
     ]
    }
   ],
   "source": [
    "s='full stack development'\n",
    "print(s.startswith('stack',5,10))\n",
    "print(s.replace('f','1'))\n",
    "print(s.center(50,'*'))\n",
    "print(s.count('e',13,15))"
   ]
  },
  {
   "cell_type": "code",
   "execution_count": 4,
   "id": "14e72aae",
   "metadata": {},
   "outputs": [
    {
     "name": "stdout",
     "output_type": "stream",
     "text": [
      "hello world\n"
     ]
    }
   ],
   "source": [
    "words={'hello','world'}\n",
    "s=' '.join(words)\n",
    "print(s)"
   ]
  },
  {
   "cell_type": "code",
   "execution_count": null,
   "id": "0e3fd8bc",
   "metadata": {},
   "outputs": [],
   "source": []
  }
 ],
 "metadata": {
  "kernelspec": {
   "display_name": "Python 3 (ipykernel)",
   "language": "python",
   "name": "python3"
  },
  "language_info": {
   "codemirror_mode": {
    "name": "ipython",
    "version": 3
   },
   "file_extension": ".py",
   "mimetype": "text/x-python",
   "name": "python",
   "nbconvert_exporter": "python",
   "pygments_lexer": "ipython3",
   "version": "3.9.12"
  }
 },
 "nbformat": 4,
 "nbformat_minor": 5
}
