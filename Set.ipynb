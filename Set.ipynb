{
 "cells": [
  {
   "cell_type": "markdown",
   "id": "93f8f941",
   "metadata": {},
   "source": [
    "# Set\n",
    "-->Mutable Data Type\n",
    "-->Collection of unique data items\n",
    "-->Changeble,unordered,unindexed\n",
    "-->Duplicate values not allowed\n",
    "-->Enclosed with {}"
   ]
  },
  {
   "cell_type": "code",
   "execution_count": 2,
   "id": "4bef1c17",
   "metadata": {},
   "outputs": [
    {
     "name": "stdout",
     "output_type": "stream",
     "text": [
      "{1, 2, 67, 4, 6, 9}\n",
      "<class 'set'>\n"
     ]
    }
   ],
   "source": [
    "S={1,4,2,67,4,9,6}\n",
    "\n",
    "print(S)   #To print set\n",
    "print(type(S)) #To get the type of Set\n"
   ]
  },
  {
   "cell_type": "code",
   "execution_count": 8,
   "id": "47e90a87",
   "metadata": {},
   "outputs": [
    {
     "name": "stdout",
     "output_type": "stream",
     "text": [
      "{1, 5, 23, 8, 56}\n",
      "{1, 51, 5, 23, 8, 56}\n",
      "{1, 51, 10, 5, 20, 23, 8, 56}\n",
      "Discarded Value {1, 51, 10, 5, 20, 23, 8, 56}\n",
      "{51, 10, 5, 20, 23, 8, 56}\n",
      "{51, 10, 5, 20, 8, 56}\n"
     ]
    },
    {
     "ename": "NameError",
     "evalue": "name 'X' is not defined",
     "output_type": "error",
     "traceback": [
      "\u001b[1;31m---------------------------------------------------------------------------\u001b[0m",
      "\u001b[1;31mNameError\u001b[0m                                 Traceback (most recent call last)",
      "Input \u001b[1;32mIn [8]\u001b[0m, in \u001b[0;36m<cell line: 16>\u001b[1;34m()\u001b[0m\n\u001b[0;32m     12\u001b[0m \u001b[38;5;28mprint\u001b[39m(X)\n\u001b[0;32m     15\u001b[0m \u001b[38;5;28;01mdel\u001b[39;00m X \u001b[38;5;66;03m#To delete set\u001b[39;00m\n\u001b[1;32m---> 16\u001b[0m \u001b[38;5;28mprint\u001b[39m(\u001b[43mX\u001b[49m)\n",
      "\u001b[1;31mNameError\u001b[0m: name 'X' is not defined"
     ]
    }
   ],
   "source": [
    "X={1,8,5,56,23,5} #Duplicate Values not allowed\n",
    "print(X)\n",
    "X.add(51)    #To add element\n",
    "print(X)\n",
    "X.update((10,20))  #To add new values to a set\n",
    "print(X)\n",
    "X.discard(22)  #Used to remove element if value is present else displays set\n",
    "print('Discarded Value',X)          #without error\n",
    "X.pop()     #randomly deletes value\n",
    "print(X)\n",
    "X.remove(23)  #To remove an element from set\n",
    "print(X)\n",
    "\n",
    "\n",
    "del X #To delete set\n",
    "print(X)"
   ]
  },
  {
   "cell_type": "code",
   "execution_count": 12,
   "id": "ea6fadcd",
   "metadata": {},
   "outputs": [
    {
     "name": "stdout",
     "output_type": "stream",
     "text": [
      "False\n",
      "False\n",
      "True\n"
     ]
    }
   ],
   "source": [
    "s1={11,33,250,5,8,67,59,30}\n",
    "s2={1,233,1250}\n",
    "print(s2.issubset(s1))   #Return True if s2 data contains in s1 set\n",
    "print(s1.issuperset(s2))   #Returns True if s1 set data contains in s2\n",
    "print(s1.isdisjoint(s2))   #Returns True if none of the items are present in both sets else returns false"
   ]
  },
  {
   "cell_type": "code",
   "execution_count": null,
   "id": "928c5f4f",
   "metadata": {},
   "outputs": [],
   "source": []
  },
  {
   "cell_type": "code",
   "execution_count": 14,
   "id": "914cc631",
   "metadata": {},
   "outputs": [
    {
     "ename": "TypeError",
     "evalue": "'set' object is not subscriptable",
     "output_type": "error",
     "traceback": [
      "\u001b[1;31m---------------------------------------------------------------------------\u001b[0m",
      "\u001b[1;31mTypeError\u001b[0m                                 Traceback (most recent call last)",
      "Input \u001b[1;32mIn [14]\u001b[0m, in \u001b[0;36m<cell line: 2>\u001b[1;34m()\u001b[0m\n\u001b[0;32m      1\u001b[0m Q\u001b[38;5;241m=\u001b[39m{\u001b[38;5;241m89\u001b[39m,\u001b[38;5;241m23\u001b[39m,\u001b[38;5;241m45\u001b[39m,\u001b[38;5;241m56\u001b[39m,\u001b[38;5;241m67\u001b[39m} \u001b[38;5;66;03m#sets are unordered therefore we cannot retrieve elements\u001b[39;00m\n\u001b[1;32m----> 2\u001b[0m \u001b[38;5;28mprint\u001b[39m(\u001b[43mQ\u001b[49m\u001b[43m[\u001b[49m\u001b[38;5;241;43m1\u001b[39;49m\u001b[43m:\u001b[49m\u001b[38;5;241;43m3\u001b[39;49m\u001b[43m]\u001b[49m)\n",
      "\u001b[1;31mTypeError\u001b[0m: 'set' object is not subscriptable"
     ]
    }
   ],
   "source": [
    "Q={89,23,45,56,67} #sets are unordered therefore we cannot retrieve elements\n",
    "print(Q[1:3])        #using index value"
   ]
  },
  {
   "cell_type": "code",
   "execution_count": 5,
   "id": "c12ca1ea",
   "metadata": {},
   "outputs": [
    {
     "name": "stdout",
     "output_type": "stream",
     "text": [
      "{1, 2, 3, 4, 7}\n",
      "{'hello'}\n",
      "<class 'str'>\n",
      "{'M', 'd', 'a'}\n",
      "{1, 2, 3}\n",
      "{'kanna', 'vikram', 'suja'}\n",
      "{(1, 'vikram'), (2, 'suja'), (3, 'kanna')}\n"
     ]
    }
   ],
   "source": [
    "C=set([1,2,3,4,7]) #list is converted into set\n",
    "print(C)\n",
    "Ch=['hello']\n",
    "print(set(Ch))\n",
    "H='MadaM'\n",
    "print(type(H))\n",
    "#S=set(H)\n",
    "print(set(H))\n",
    "    d={1:'vikram',2:'suja',3:'kanna'}\n",
    "print(set(d))\n",
    "print(set(d.values()))\n",
    "print(set(d.items()))"
   ]
  },
  {
   "cell_type": "code",
   "execution_count": 3,
   "id": "cebd7bd9",
   "metadata": {},
   "outputs": [
    {
     "name": "stdout",
     "output_type": "stream",
     "text": [
      "{50, 20, 40, 10, 'mega', 30}\n",
      "frozenset({50, 20, 40, 10, 'mega', 30})\n"
     ]
    },
    {
     "ename": "AttributeError",
     "evalue": "'frozenset' object has no attribute 'add'",
     "output_type": "error",
     "traceback": [
      "\u001b[1;31m---------------------------------------------------------------------------\u001b[0m",
      "\u001b[1;31mAttributeError\u001b[0m                            Traceback (most recent call last)",
      "Input \u001b[1;32mIn [3]\u001b[0m, in \u001b[0;36m<cell line: 7>\u001b[1;34m()\u001b[0m\n\u001b[0;32m      5\u001b[0m \u001b[38;5;28mprint\u001b[39m(s2)\n\u001b[0;32m      6\u001b[0m \u001b[38;5;66;03m#print(S2)\u001b[39;00m\n\u001b[1;32m----> 7\u001b[0m \u001b[43ms2\u001b[49m\u001b[38;5;241;43m.\u001b[39;49m\u001b[43madd\u001b[49m(\u001b[38;5;241m70\u001b[39m)\n\u001b[0;32m      8\u001b[0m \u001b[38;5;28mprint\u001b[39m(s2)\n",
      "\u001b[1;31mAttributeError\u001b[0m: 'frozenset' object has no attribute 'add'"
     ]
    }
   ],
   "source": [
    "S1={10,20,30,40,50}\n",
    "S1.add('mega')\n",
    "print(S1)#Elements in Frozendata type cannot be modified\n",
    "s2=frozenset(S1)\n",
    "print(s2)\n",
    "#print(S2)\n",
    "s2.add(70)\n",
    "print(s2)"
   ]
  },
  {
   "cell_type": "code",
   "execution_count": 14,
   "id": "39119763",
   "metadata": {},
   "outputs": [
    {
     "name": "stdout",
     "output_type": "stream",
     "text": [
      "frozenset({'l', 'h', 'e', 'o'})\n"
     ]
    }
   ],
   "source": [
    "S3=frozenset('hello')\n",
    "print(S3)"
   ]
  },
  {
   "cell_type": "markdown",
   "id": "cc4c872b",
   "metadata": {},
   "source": [
    "# Set Operators\n",
    "*Union\n",
    "*Intersection\n",
    "*Difference\n",
    "*Symmetric Difference"
   ]
  },
  {
   "cell_type": "code",
   "execution_count": 10,
   "id": "7690a491",
   "metadata": {},
   "outputs": [
    {
     "name": "stdout",
     "output_type": "stream",
     "text": [
      "{1, 3, 4, 67, 6, 8, 9, 89}\n",
      "{1, 3, 4, 67, 6, 8, 9, 89}\n"
     ]
    }
   ],
   "source": [
    "#Union Operator-Combines both sets together\n",
    "Set1={1,3,4,6,8,9}\n",
    "Set2={1,67,3,89,9}\n",
    "Z=Set1|Set2\n",
    "print(Z)\n",
    "Z1=Set1.union(Set2)\n",
    "print(Z1)"
   ]
  },
  {
   "cell_type": "code",
   "execution_count": 37,
   "id": "da180480",
   "metadata": {},
   "outputs": [
    {
     "name": "stdout",
     "output_type": "stream",
     "text": [
      "{1, 3, 9}\n",
      "{1, 3, 9}\n"
     ]
    }
   ],
   "source": [
    "#Intersection - prints common elements\n",
    "Z=Set1.intersection(Set2)\n",
    "print(Z)\n",
    "Z2=Set1&Set2\n",
    "print(Z2)"
   ]
  },
  {
   "cell_type": "code",
   "execution_count": 43,
   "id": "03073a00",
   "metadata": {},
   "outputs": [
    {
     "name": "stdout",
     "output_type": "stream",
     "text": [
      "{8, 4, 6}\n",
      "{8, 4, 6}\n",
      "{89, 67}\n",
      "{89, 67}\n"
     ]
    }
   ],
   "source": [
    "#Difference - neglects elements which is not in another set\n",
    "Z3=Set1-Set2\n",
    "print(Z3)\n",
    "Z4=Set1.difference(Set2)\n",
    "print(Z4)\n",
    "Z5=Set2.difference(Set1)\n",
    "print(Z5)\n",
    "Z6=Set2-Set1\n",
    "print(Z6)"
   ]
  },
  {
   "cell_type": "code",
   "execution_count": 14,
   "id": "0ed96b08",
   "metadata": {},
   "outputs": [
    {
     "name": "stdout",
     "output_type": "stream",
     "text": [
      "{89, 67, 4, 6, 8}\n",
      "{89, 67, 4, 6, 8}\n",
      "set()\n"
     ]
    }
   ],
   "source": [
    "#Symmetric Difference-Displays element which are not common in both set\n",
    "Set1={1,3,4,6,8,9}\n",
    "Set2={1,67,3,89,9}\n",
    "A1=Set1^Set2\n",
    "print(A1)\n",
    "A2=Set1.symmetric_difference(Set2)\n",
    "print(A2)\n",
    "Set1.clear()\n",
    "print(Set1)"
   ]
  },
  {
   "cell_type": "code",
   "execution_count": 6,
   "id": "ffa97c36",
   "metadata": {},
   "outputs": [
    {
     "name": "stdout",
     "output_type": "stream",
     "text": [
      "set()\n"
     ]
    }
   ],
   "source": [
    "S={1,3,4,5}\n",
    "S.clear()     #Clears Set\n",
    "print(S)"
   ]
  }
 ],
 "metadata": {
  "kernelspec": {
   "display_name": "Python 3 (ipykernel)",
   "language": "python",
   "name": "python3"
  },
  "language_info": {
   "codemirror_mode": {
    "name": "ipython",
    "version": 3
   },
   "file_extension": ".py",
   "mimetype": "text/x-python",
   "name": "python",
   "nbconvert_exporter": "python",
   "pygments_lexer": "ipython3",
   "version": "3.9.12"
  }
 },
 "nbformat": 4,
 "nbformat_minor": 5
}
