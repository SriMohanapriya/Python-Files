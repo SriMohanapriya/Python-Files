{
 "cells": [
  {
   "cell_type": "code",
   "execution_count": 2,
   "id": "78883157",
   "metadata": {},
   "outputs": [
    {
     "name": "stdout",
     "output_type": "stream",
     "text": [
      "<class 'tuple'>\n",
      "('comic', 'novel', 'horror', 'horror')\n",
      "4\n"
     ]
    }
   ],
   "source": [
    "book=('comic','novel','horror','horror')\n",
    "print(type(book))\n",
    "print(book)\n",
    "print(len(book))"
   ]
  },
  {
   "cell_type": "code",
   "execution_count": 3,
   "id": "cc67691e",
   "metadata": {},
   "outputs": [
    {
     "name": "stdout",
     "output_type": "stream",
     "text": [
      "<class 'tuple'>\n"
     ]
    }
   ],
   "source": [
    "txt=('hi',)\n",
    "print(type(txt))"
   ]
  },
  {
   "cell_type": "code",
   "execution_count": 4,
   "id": "6edaab8c",
   "metadata": {},
   "outputs": [
    {
     "name": "stdout",
     "output_type": "stream",
     "text": [
      "<class 'tuple'>\n",
      "horror\n"
     ]
    }
   ],
   "source": [
    "book=('comic','novel','horror','horror')\n",
    "print(type(book))\n",
    "print(book[2])"
   ]
  },
  {
   "cell_type": "code",
   "execution_count": 5,
   "id": "35313105",
   "metadata": {},
   "outputs": [
    {
     "name": "stdout",
     "output_type": "stream",
     "text": [
      "['comic', 'novel', 'horror', 'horror', 'spritiual']\n",
      "('comic', 'novel', 'horror', 'horror', 'spritiual')\n"
     ]
    }
   ],
   "source": [
    "x=list(book)\n",
    "x.append('spritiual')\n",
    "print(x)\n",
    "y=tuple(x)\n",
    "print(y)"
   ]
  },
  {
   "cell_type": "code",
   "execution_count": 1,
   "id": "f8ea79db",
   "metadata": {},
   "outputs": [
    {
     "name": "stdout",
     "output_type": "stream",
     "text": [
      "False\n"
     ]
    }
   ],
   "source": [
    "x=[1,2,3]\n",
    "y=[1,2,3]\n",
    "print(x is y)"
   ]
  },
  {
   "cell_type": "code",
   "execution_count": 11,
   "id": "227bbe7d",
   "metadata": {},
   "outputs": [
    {
     "name": "stdout",
     "output_type": "stream",
     "text": [
      "('comic', 'novel', 'horror')\n"
     ]
    }
   ],
   "source": [
    "x=list(book)\n",
    "x.remove('horror')\n",
    "y=tuple(x)\n",
    "print(y)"
   ]
  },
  {
   "cell_type": "code",
   "execution_count": 4,
   "id": "7556b97f",
   "metadata": {},
   "outputs": [
    {
     "name": "stdout",
     "output_type": "stream",
     "text": [
      "5\n"
     ]
    }
   ],
   "source": [
    "print(5 or 3)\n"
   ]
  },
  {
   "cell_type": "code",
   "execution_count": 13,
   "id": "772a116e",
   "metadata": {},
   "outputs": [
    {
     "name": "stdout",
     "output_type": "stream",
     "text": [
      "('comic', 'novel', 'horror', 'webseries')\n"
     ]
    }
   ],
   "source": [
    "ax=('webseries',)\n",
    "x+=ax\n",
    "print(tuple(x))"
   ]
  },
  {
   "cell_type": "code",
   "execution_count": 15,
   "id": "766936fd",
   "metadata": {},
   "outputs": [
    {
     "ename": "NameError",
     "evalue": "name 'x' is not defined",
     "output_type": "error",
     "traceback": [
      "\u001b[1;31m---------------------------------------------------------------------------\u001b[0m",
      "\u001b[1;31mNameError\u001b[0m                                 Traceback (most recent call last)",
      "Input \u001b[1;32mIn [15]\u001b[0m, in \u001b[0;36m<cell line: 1>\u001b[1;34m()\u001b[0m\n\u001b[1;32m----> 1\u001b[0m \u001b[38;5;28;01mdel\u001b[39;00m x\n\u001b[0;32m      2\u001b[0m \u001b[38;5;28mprint\u001b[39m(x)\n",
      "\u001b[1;31mNameError\u001b[0m: name 'x' is not defined"
     ]
    }
   ],
   "source": [
    "del x\n",
    "print(x)\n"
   ]
  },
  {
   "cell_type": "code",
   "execution_count": 16,
   "id": "a9f80267",
   "metadata": {},
   "outputs": [
    {
     "name": "stdout",
     "output_type": "stream",
     "text": [
      "('car', 'bike', 'jeep')\n"
     ]
    }
   ],
   "source": [
    "vehicle=('car','bike','jeep')\n",
    "print(vehicle)"
   ]
  },
  {
   "cell_type": "code",
   "execution_count": 18,
   "id": "09251a91",
   "metadata": {},
   "outputs": [
    {
     "name": "stdout",
     "output_type": "stream",
     "text": [
      "car jeep bike\n",
      "jeep\n",
      "bike\n"
     ]
    }
   ],
   "source": [
    "(nano,scooty,honda)=vehicle\n",
    "print(nano,honda,scooty)\n",
    "print(honda)\n",
    "print(scooty)"
   ]
  },
  {
   "cell_type": "code",
   "execution_count": 8,
   "id": "d66d212d",
   "metadata": {},
   "outputs": [
    {
     "name": "stdout",
     "output_type": "stream",
     "text": [
      "['car', 'novel', 56, 'horror']\n",
      "1\n"
     ]
    }
   ],
   "source": [
    "#unpacking of Tuple\n",
    "book=('car','novel',56,'horror',1)\n",
    "(*kids,adult)=book\n",
    "print(kids)\n",
    "print(adult)"
   ]
  },
  {
   "cell_type": "code",
   "execution_count": null,
   "id": "de109c83",
   "metadata": {},
   "outputs": [],
   "source": []
  }
 ],
 "metadata": {
  "kernelspec": {
   "display_name": "Python 3 (ipykernel)",
   "language": "python",
   "name": "python3"
  },
  "language_info": {
   "codemirror_mode": {
    "name": "ipython",
    "version": 3
   },
   "file_extension": ".py",
   "mimetype": "text/x-python",
   "name": "python",
   "nbconvert_exporter": "python",
   "pygments_lexer": "ipython3",
   "version": "3.9.12"
  }
 },
 "nbformat": 4,
 "nbformat_minor": 5
}
