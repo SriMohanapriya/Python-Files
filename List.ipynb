{
 "cells": [
  {
   "cell_type": "markdown",
   "id": "5131bc30",
   "metadata": {},
   "source": [
    "# List\n",
    "    Collection of different data elements[Numbers,Strings,Boolean values]\n",
    "    Enclosed with square bracket\n",
    "    Ordered,indexed,Changeable\n",
    "    Duplicate values are allowed\n",
    "    "
   ]
  },
  {
   "cell_type": "code",
   "execution_count": 1,
   "id": "4891ac2e",
   "metadata": {},
   "outputs": [
    {
     "name": "stdout",
     "output_type": "stream",
     "text": [
      "2\n",
      "2\n"
     ]
    },
    {
     "ename": "IndexError",
     "evalue": "list index out of range",
     "output_type": "error",
     "traceback": [
      "\u001b[1;31m---------------------------------------------------------------------------\u001b[0m",
      "\u001b[1;31mIndexError\u001b[0m                                Traceback (most recent call last)",
      "Input \u001b[1;32mIn [1]\u001b[0m, in \u001b[0;36m<cell line: 4>\u001b[1;34m()\u001b[0m\n\u001b[0;32m      2\u001b[0m \u001b[38;5;28mprint\u001b[39m(x\u001b[38;5;241m.\u001b[39mindex(\u001b[38;5;241m56\u001b[39m))\n\u001b[0;32m      3\u001b[0m \u001b[38;5;28mprint\u001b[39m(x\u001b[38;5;241m.\u001b[39mcount(\u001b[38;5;241m56\u001b[39m))\n\u001b[1;32m----> 4\u001b[0m \u001b[38;5;28mprint\u001b[39m(\u001b[43mx\u001b[49m\u001b[43m[\u001b[49m\u001b[38;5;241;43m-\u001b[39;49m\u001b[38;5;241;43m5\u001b[39;49m\u001b[43m]\u001b[49m)\n",
      "\u001b[1;31mIndexError\u001b[0m: list index out of range"
     ]
    }
   ],
   "source": [
    "x=[21,34,56,56]\n",
    "print(x.index(56))\n",
    "print(x.count(56))\n",
    "print(x[-5])"
   ]
  },
  {
   "cell_type": "code",
   "execution_count": 3,
   "id": "22148b8b",
   "metadata": {},
   "outputs": [
    {
     "name": "stdout",
     "output_type": "stream",
     "text": [
      "List elements is [1, 2, 3, 'apple', 7, 9, True]\n",
      "Length of list is 7\n",
      "Type of List is <class 'list'>\n"
     ]
    }
   ],
   "source": [
    "li=[1,2,3,'apple',7,9,True]\n",
    "print(\"List elements is\",li) #To print list\n",
    "print(\"Length of list is\",len(li)) #To print length of list\n",
    "print(\"Type of List is\",type(li)) #To print data type of variable"
   ]
  },
  {
   "cell_type": "code",
   "execution_count": 2,
   "id": "0fcafd69",
   "metadata": {},
   "outputs": [
    {
     "name": "stdout",
     "output_type": "stream",
     "text": [
      "[1, 2, 3, 'apple', 7, 1, 9, True, 33]\n",
      "3\n"
     ]
    }
   ],
   "source": [
    "#To Add element\n",
    "li=[1,2,3,'apple',7,1,9,True]\n",
    "li.append(33)\n",
    "print(li)\n",
    "print(li.count(1))"
   ]
  },
  {
   "cell_type": "code",
   "execution_count": 1,
   "id": "df768b35",
   "metadata": {},
   "outputs": [
    {
     "name": "stdout",
     "output_type": "stream",
     "text": [
      "Append value is [1, 2, 3, 'apple', 7, 9, True, 33]\n",
      "Multiple values added in the lis is [1, 2, 3, 'apple', 7, 9, True, 33, 10, 20, 30]\n",
      "New added value at index position 4 is [1, 2, 3, 'apple', 700, 7, 9, True, 33, 10, 20, 30]\n"
     ]
    }
   ],
   "source": [
    "#Adding an element\n",
    "li=[1,2,3,'apple',7,9,True]\n",
    "li.append(33)\n",
    "print(\"Append value is\",li)  #adds only one element at the end of list\n",
    "li.extend([10,20,30])       #adds multiple values at the end of list\n",
    "print(\"Multiple values added in the lis is\",li)\n",
    "li.insert(4,700)             #inserts data @position 4\n",
    "print(\"New added value at index position 4 is\",li)"
   ]
  },
  {
   "cell_type": "code",
   "execution_count": 6,
   "id": "a2af7d1b",
   "metadata": {},
   "outputs": [
    {
     "name": "stdout",
     "output_type": "stream",
     "text": [
      "Pop element is 9\n",
      "[1, 2, 3, 'apple', 7]\n",
      "pop element using index position 1\n",
      "Removed Element is None\n",
      "[2, 3, 7]\n"
     ]
    }
   ],
   "source": [
    "li=[1,2,3,'apple',7,9]\n",
    "print(\"Pop element is\",li.pop())  #deletes last element\n",
    "print(li)\n",
    "print(\"pop element using index position\",li.pop(0))  #deletes value from index position\n",
    "print(\"Removed Element is\",li.remove('apple')) #removes particular value\n",
    "print(li)"
   ]
  },
  {
   "cell_type": "code",
   "execution_count": 7,
   "id": "15eaa0d1",
   "metadata": {},
   "outputs": [
    {
     "name": "stdout",
     "output_type": "stream",
     "text": [
      "[2, 3, 7]\n"
     ]
    }
   ],
   "source": [
    "print(li)"
   ]
  },
  {
   "cell_type": "code",
   "execution_count": 8,
   "id": "4b262825",
   "metadata": {},
   "outputs": [
    {
     "name": "stdout",
     "output_type": "stream",
     "text": [
      "Deleted list is [10, 20, 30, 90, 77]\n",
      "Cleared list is []\n"
     ]
    }
   ],
   "source": [
    "lis=[10,20,30,False,90,77]\n",
    "del lis[3]     #Deletes list from index position\n",
    "print('Deleted list is',lis)\n",
    "lis.clear()     #Clears the list\n",
    "print(\"Cleared list is\",lis)\n"
   ]
  },
  {
   "cell_type": "code",
   "execution_count": 28,
   "id": "e942e4ca",
   "metadata": {},
   "outputs": [
    {
     "ename": "NameError",
     "evalue": "name 'lis' is not defined",
     "output_type": "error",
     "traceback": [
      "\u001b[1;31m---------------------------------------------------------------------------\u001b[0m",
      "\u001b[1;31mNameError\u001b[0m                                 Traceback (most recent call last)",
      "Input \u001b[1;32mIn [28]\u001b[0m, in \u001b[0;36m<cell line: 2>\u001b[1;34m()\u001b[0m\n\u001b[0;32m      1\u001b[0m \u001b[38;5;28;01mdel\u001b[39;00m lis\n\u001b[1;32m----> 2\u001b[0m \u001b[38;5;28mprint\u001b[39m(\u001b[43mlis\u001b[49m)\n",
      "\u001b[1;31mNameError\u001b[0m: name 'lis' is not defined"
     ]
    }
   ],
   "source": [
    "del lis   #Deletes list\n",
    "print(lis) #list is not available as it is deleted"
   ]
  },
  {
   "cell_type": "markdown",
   "id": "2418b37e",
   "metadata": {},
   "source": [
    "# Slicing\n",
    "variable[startvalue:stopvalue]\n",
    "variable[startvalue:stopvalue:stepvalue]"
   ]
  },
  {
   "cell_type": "code",
   "execution_count": 2,
   "id": "8cd3df81",
   "metadata": {},
   "outputs": [
    {
     "name": "stdout",
     "output_type": "stream",
     "text": [
      "4th element is 56\n",
      "last element in the list 90\n",
      "list ranges from 2 to 4 is [56, 89]\n",
      "list  [13, 89, 34, 'orange', 90]\n",
      "list values with step value is [12, 89, 'red', 90]\n",
      "list values [12, 13, 56, 89, 56]\n",
      "list is [89, 56, 34, 'red', 'orange', 78, 90]\n",
      "[90, 78, 'orange', 'red', 34, 56, 89, 56, 13, 12]\n",
      "new slicing list [89, 34, 'orange']\n",
      "list without start and stop value is [12, 13, 56, 89, 56, 34, 'red', 'orange', 78, 90]\n",
      "Reverse list is [89, 34, 'orange']\n"
     ]
    }
   ],
   "source": [
    "x=[12,13,56,89,56,34,'red','orange',78,90]\n",
    "print(\"4th element is\",x[4])\n",
    "print('last element in the list',x[-1])\n",
    "print('list ranges from 2 to 4 is',x[2:4])\n",
    "print('list ',x[1::2])\n",
    "print('list values with step value is',x[::3])\n",
    "print('list values',x[:5])\n",
    "print('list is',x[3:])\n",
    "print(x[::-1])\n",
    "print(\"new slicing list\",x[3:9:2])\n",
    "print('list without start and stop value is',x[::])\n",
    "print('Reverse list is',x[-7:-2:2])"
   ]
  },
  {
   "cell_type": "code",
   "execution_count": 11,
   "id": "617b44c8",
   "metadata": {},
   "outputs": [
    {
     "name": "stdout",
     "output_type": "stream",
     "text": [
      "Reverse list [23, 89, 34, 67, 1, 2]\n",
      "Ascending order [1, 2, 23, 34, 67, 89]\n",
      "Descending order [89, 67, 34, 23, 2, 1]\n"
     ]
    }
   ],
   "source": [
    "list1=[2,1,67,34,89,23]\n",
    "list1.reverse()\n",
    "print('Reverse list',list1)\n",
    "list1.sort()   #prints list in Ascending order\n",
    "print('Ascending order',list1)\n",
    "\n",
    "\n",
    "list1.sort(reverse=True) #prints list in Descending order\n",
    "print('Descending order',list1)"
   ]
  },
  {
   "cell_type": "code",
   "execution_count": 19,
   "id": "5a3a597f",
   "metadata": {},
   "outputs": [
    {
     "name": "stdout",
     "output_type": "stream",
     "text": [
      "Reverse list [1, 2, 23, 34, 67, 89]\n"
     ]
    }
   ],
   "source": [
    "print('Reverse list',list1[::-1])  #Reverses list"
   ]
  },
  {
   "cell_type": "code",
   "execution_count": 34,
   "id": "4bcdc68a",
   "metadata": {},
   "outputs": [
    {
     "name": "stdout",
     "output_type": "stream",
     "text": [
      "Sum of Numbers in the list is 216\n"
     ]
    }
   ],
   "source": [
    "print('Sum of Numbers in the list is',sum(list1)) #Sums the values in the list"
   ]
  },
  {
   "cell_type": "code",
   "execution_count": 12,
   "id": "61b2ef34",
   "metadata": {},
   "outputs": [
    {
     "name": "stdout",
     "output_type": "stream",
     "text": [
      "Maximum Number in the list is 89\n"
     ]
    }
   ],
   "source": [
    "print('Maximum Number in the list is',max(list1))  #prints max number"
   ]
  },
  {
   "cell_type": "code",
   "execution_count": 13,
   "id": "63e079d3",
   "metadata": {},
   "outputs": [
    {
     "name": "stdout",
     "output_type": "stream",
     "text": [
      "Minimum Number in the list 1\n",
      "No of times repeated value is 1\n"
     ]
    }
   ],
   "source": [
    "print('Minimum Number in the list',min(list1))  #prints min number\n",
    "print('No of times repeated value is',list1.count(89))"
   ]
  },
  {
   "cell_type": "code",
   "execution_count": 2,
   "id": "e01dfd84",
   "metadata": {},
   "outputs": [
    {
     "name": "stdout",
     "output_type": "stream",
     "text": [
      "Sorted strings  ['apple', 'banana', 'kiwi', 'orange']\n",
      "2\n"
     ]
    }
   ],
   "source": [
    "str1=['apple','kiwi','orange','banana',]\n",
    "str1.sort()\n",
    "print('Sorted strings ',str1)\n",
    "print(str1.index('kiwi'))"
   ]
  },
  {
   "cell_type": "code",
   "execution_count": 7,
   "id": "bebcbd24",
   "metadata": {},
   "outputs": [
    {
     "name": "stdout",
     "output_type": "stream",
     "text": [
      "Maximum value in the string is orange\n",
      "Minimum value in the string is apple\n"
     ]
    }
   ],
   "source": [
    "print('Maximum value in the string is',max(str1))\n",
    "print('Minimum value in the string is',min(str1))"
   ]
  }
 ],
 "metadata": {
  "kernelspec": {
   "display_name": "Python 3 (ipykernel)",
   "language": "python",
   "name": "python3"
  },
  "language_info": {
   "codemirror_mode": {
    "name": "ipython",
    "version": 3
   },
   "file_extension": ".py",
   "mimetype": "text/x-python",
   "name": "python",
   "nbconvert_exporter": "python",
   "pygments_lexer": "ipython3",
   "version": "3.9.12"
  }
 },
 "nbformat": 4,
 "nbformat_minor": 5
}
